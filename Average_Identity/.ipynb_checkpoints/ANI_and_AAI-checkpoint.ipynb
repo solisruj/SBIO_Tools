{
 "cells": [
  {
   "cell_type": "markdown",
   "metadata": {},
   "source": [
    "# Bacterial Genome and CDs Average Identity"
   ]
  },
  {
   "cell_type": "markdown",
   "metadata": {},
   "source": [
    "Average nucleotide identity (ANI) and average amino acid identity (AAI) are robust measurements of bacterial strain relatedness. Both measurements contribute to a genome based taxonomy and alterantives for DNA-DNA hybridization (DHH) technique.\n",
    "\n",
    "**References:**\n",
    "\n",
    "“Microbiology Society Journals | Towards a Taxonomic Coherence between Average Nucleotide Identity and 16S RRNA Gene Sequence Similarity for Species Demarcation of Prokaryotes.” Accessed April 12, 2019.\n",
    "https://ijs.microbiologyresearch.org/content/journal/ijsem/10.1099/ijs.0.059774-0.\n",
    "\n",
    "“Towards a Genome-Based Taxonomy for Prokaryotes | Journal of Bacteriology.” Accessed April 12, 2019. https://jb.asm.org/content/187/18/6258.\n",
    "\n",
    "**ANI and AAI Equations:**\n",
    "\n",
    "$$ \\%\\ Coverage\\ =\\ (Total\\ Number\\ of\\ Bases\\ Matched\\ /\\ Total\\ Number\\ of\\ Reference\\ Bases)\\ /\\ 100 $$\n",
    "\n",
    "$$ \\%\\ Score\\ =\\ (Total\\ Percent\\ Identity\\ /\\ Total\\ Number\\ of\\ Fragments)\\ /\\ 100 $$\n",
    "\n",
    "$$ \\%\\ Similarity\\ =\\ (Coverage\\ *\\ Score)\\ /\\ 100 $$\n",
    "\n"
   ]
  },
  {
   "cell_type": "markdown",
   "metadata": {},
   "source": [
    "#### Average Nucleotide Identity (ANI) Command:"
   ]
  },
  {
   "cell_type": "code",
   "execution_count": null,
   "metadata": {},
   "outputs": [],
   "source": [
    "# Single query to a single reference:\n",
    "Average_Nucleotide_Identity.py -q <query fna> -r <reference fna>"
   ]
  },
  {
   "cell_type": "markdown",
   "metadata": {},
   "source": [
    "#### Average Nucleotide Identity w/ Mutiple References (ANIRs) Command:"
   ]
  },
  {
   "cell_type": "code",
   "execution_count": null,
   "metadata": {},
   "outputs": [],
   "source": [
    "# Single query to multiple references:\n",
    "ANIRs.py -q <query fna> -r <reference fna directory>"
   ]
  },
  {
   "cell_type": "markdown",
   "metadata": {},
   "source": [
    "#### Average Amino Identity (AAI) Command:"
   ]
  },
  {
   "cell_type": "code",
   "execution_count": null,
   "metadata": {},
   "outputs": [],
   "source": [
    "# Single query to a single reference:\n",
    "Average_Amino_Identity.py -q <query faa file> -r <reference faa file>"
   ]
  },
  {
   "cell_type": "markdown",
   "metadata": {},
   "source": [
    "#### Average Amino Identity w/ Multiple References (AAIRs) Command:"
   ]
  },
  {
   "cell_type": "code",
   "execution_count": null,
   "metadata": {},
   "outputs": [],
   "source": [
    "ANIRs.py -q <query .faa> -r <reference .faa directory>"
   ]
  },
  {
   "cell_type": "markdown",
   "metadata": {},
   "source": [
    "### Example of Batch Run (All versus All):"
   ]
  },
  {
   "cell_type": "markdown",
   "metadata": {},
   "source": [
    "#### ANIRs:"
   ]
  },
  {
   "cell_type": "code",
   "execution_count": null,
   "metadata": {},
   "outputs": [],
   "source": [
    "# ANI For loop to run all on files of interest.\n",
    "for f in *.fna; do ./ANIRs.py -q $f -r references/; done"
   ]
  },
  {
   "cell_type": "markdown",
   "metadata": {},
   "source": [
    "#### AAIRs:"
   ]
  },
  {
   "cell_type": "code",
   "execution_count": null,
   "metadata": {},
   "outputs": [],
   "source": [
    "# ANI For loop to run all on files of interest.\n",
    "for f in *.fna; do ./ANIRs.py -q $f -r references/; done"
   ]
  },
  {
   "cell_type": "markdown",
   "metadata": {},
   "source": [
    "#### How to Combine ANI or AAI Output Files:"
   ]
  },
  {
   "cell_type": "code",
   "execution_count": null,
   "metadata": {},
   "outputs": [],
   "source": [
    "head -n 1 GCF_000006745_coverage.tsv > All_Coverage.tsv; tail -q -n+2 *_coverage.tsv >> All_Coverage.tsv"
   ]
  },
  {
   "cell_type": "code",
   "execution_count": null,
   "metadata": {},
   "outputs": [],
   "source": [
    "head -n 1 GCF_000006745_score.tsv > All_score.tsv; tail -q -n+2 *_score.tsv >> All_score.tsv"
   ]
  },
  {
   "cell_type": "code",
   "execution_count": null,
   "metadata": {},
   "outputs": [],
   "source": [
    "head -n 1 GCF_000006745_similarity.tsv > All_similarity.tsv; tail -q -n+2 *_similarity.tsv >> All_similarity.tsv"
   ]
  },
  {
   "cell_type": "markdown",
   "metadata": {},
   "source": [
    "#### Creating Heatmap for ANI or AAI"
   ]
  },
  {
   "cell_type": "code",
   "execution_count": null,
   "metadata": {},
   "outputs": [],
   "source": [
    "Heatmap.py -in ani_similarity.tsv -title Similarity -out ani_similarity.png"
   ]
  },
  {
   "cell_type": "markdown",
   "metadata": {},
   "source": [
    "<img src=\"ANI/ani_similarity.png\" style=\"height:700px\"></img>"
   ]
  },
  {
   "cell_type": "code",
   "execution_count": null,
   "metadata": {},
   "outputs": [],
   "source": [
    "Heatmap.py -in aai_similarity.tsv -title Similarity -out aai_similarity.png"
   ]
  },
  {
   "cell_type": "markdown",
   "metadata": {},
   "source": [
    "<img src=\"AAI/aai_similarity.png\" style=\"height:900px\"></img>"
   ]
  },
  {
   "cell_type": "markdown",
   "metadata": {},
   "source": [
    "#### Creating Dendograms for ANI or AAI"
   ]
  },
  {
   "cell_type": "code",
   "execution_count": null,
   "metadata": {},
   "outputs": [],
   "source": [
    "Dendogram.py -in ani_similarity.tsv -out ani_similarity.dm.png"
   ]
  },
  {
   "cell_type": "markdown",
   "metadata": {},
   "source": [
    "<img src=\"ANI/ani_similarity.dm.png\" style=\"height:500px\"></img>"
   ]
  },
  {
   "cell_type": "code",
   "execution_count": null,
   "metadata": {},
   "outputs": [],
   "source": [
    "Dendogram.py -in aai_similarity.tsv -out aai_similarity.dm.png"
   ]
  },
  {
   "cell_type": "markdown",
   "metadata": {},
   "source": [
    "<img src=\"AAI/aai_similarity.dm.png\" style=\"height:500px\"></img>"
   ]
  },
  {
   "cell_type": "code",
   "execution_count": null,
   "metadata": {},
   "outputs": [],
   "source": []
  }
 ],
 "metadata": {
  "kernelspec": {
   "display_name": "Python 2",
   "language": "python",
   "name": "python2"
  },
  "language_info": {
   "codemirror_mode": {
    "name": "ipython",
    "version": 2
   },
   "file_extension": ".py",
   "mimetype": "text/x-python",
   "name": "python",
   "nbconvert_exporter": "python",
   "pygments_lexer": "ipython2",
   "version": "2.7.12"
  }
 },
 "nbformat": 4,
 "nbformat_minor": 2
}
